{
  "nbformat": 4,
  "nbformat_minor": 0,
  "metadata": {
    "colab": {
      "provenance": [],
      "authorship_tag": "ABX9TyOT9JUQzbb8THZBNX1SORYW",
      "include_colab_link": true
    },
    "kernelspec": {
      "name": "python3",
      "display_name": "Python 3"
    },
    "language_info": {
      "name": "python"
    }
  },
  "cells": [
    {
      "cell_type": "markdown",
      "metadata": {
        "id": "view-in-github",
        "colab_type": "text"
      },
      "source": [
        "<a href=\"https://colab.research.google.com/github/Aaditya-Prasad/PetTalk/blob/aaditya-patch-1/PetTalk.ipynb\" target=\"_parent\"><img src=\"https://colab.research.google.com/assets/colab-badge.svg\" alt=\"Open In Colab\"/></a>"
      ]
    },
    {
      "cell_type": "code",
      "execution_count": null,
      "metadata": {
        "id": "wNAzxq1Z2VyS"
      },
      "outputs": [],
      "source": [
        "#OBJECT DETECTION\n",
        "#I: One image\n",
        "#O: One outline drawn over the input image + species of pet\n",
        "#Notes: Trying to use one of the effecientnet models perhaps that my phone can run, but not needed"
      ]
    },
    {
      "cell_type": "code",
      "source": [
        "#Semantic Classification\n",
        "#I: Species of pet\n",
        "#O: list of adjectives that describe pet\n",
        "#Notes: could just be an API call"
      ],
      "metadata": {
        "id": "60tvnVjU7JaY"
      },
      "execution_count": null,
      "outputs": []
    }
  ]
}